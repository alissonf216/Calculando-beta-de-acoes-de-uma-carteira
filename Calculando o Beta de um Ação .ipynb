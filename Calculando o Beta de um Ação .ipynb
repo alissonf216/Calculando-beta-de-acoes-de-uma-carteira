{
 "cells": [
  {
   "cell_type": "markdown",
   "metadata": {},
   "source": [
    "O Índice Beta é um indicador que mede a sensibilidade de um ativo em relação ao comportamento\n",
    "de uma carteira que represente o mercado.\n",
    "É a relação entre a variação do retorno de uma ação (ativo) e o Ibovespa (mercado), por exemplo.."
   ]
  },
  {
   "cell_type": "code",
   "execution_count": 1,
   "metadata": {},
   "outputs": [],
   "source": [
    "import pandas as pd\n",
    "#importar biblioteca do pandas datareader\n",
    "from pandas_datareader import data as pdr\n",
    "#importar a bliblioteca Numpy\n",
    "import numpy as np\n",
    "import matplotlib.pyplot as plt\n",
    "%matplotlib inline"
   ]
  },
  {
   "cell_type": "code",
   "execution_count": 8,
   "metadata": {},
   "outputs": [],
   "source": [
    "# tempo ideal para calc um beta é de 5 anos\n",
    "carteira = ['itsa3.sa','^BVSP']\n",
    "mdata = pd.DataFrame()\n",
    "for t in carteira:\n",
    "    mdata[t] = pdr.DataReader(t,data_source='yahoo',start='2015-7-16', end = '2020-07-16')['Adj Close']"
   ]
  },
  {
   "cell_type": "code",
   "execution_count": 9,
   "metadata": {},
   "outputs": [
    {
     "name": "stdout",
     "output_type": "stream",
     "text": [
      "            itsa3.sa     ^BVSP\n",
      "Date                          \n",
      "2015-07-16       NaN       NaN\n",
      "2015-07-17 -0.010050 -0.013813\n",
      "2015-07-20 -0.001123 -0.014277\n",
      "2015-07-21  0.004484 -0.002445\n",
      "2015-07-22 -0.019198 -0.010900\n"
     ]
    }
   ],
   "source": [
    "#vamos criar um data frame novo com os dados de retorno em log... sabemos que em log é o melhor jeito se for ativos individuais\n",
    "df_log= np.log(mdata / mdata.shift(1))\n",
    "print(df_log.head())"
   ]
  },
  {
   "cell_type": "code",
   "execution_count": 10,
   "metadata": {},
   "outputs": [
    {
     "data": {
      "text/html": [
       "<div>\n",
       "<style scoped>\n",
       "    .dataframe tbody tr th:only-of-type {\n",
       "        vertical-align: middle;\n",
       "    }\n",
       "\n",
       "    .dataframe tbody tr th {\n",
       "        vertical-align: top;\n",
       "    }\n",
       "\n",
       "    .dataframe thead th {\n",
       "        text-align: right;\n",
       "    }\n",
       "</style>\n",
       "<table border=\"1\" class=\"dataframe\">\n",
       "  <thead>\n",
       "    <tr style=\"text-align: right;\">\n",
       "      <th></th>\n",
       "      <th>itsa3.sa</th>\n",
       "      <th>^BVSP</th>\n",
       "    </tr>\n",
       "  </thead>\n",
       "  <tbody>\n",
       "    <tr>\n",
       "      <th>itsa3.sa</th>\n",
       "      <td>0.094499</td>\n",
       "      <td>0.05947</td>\n",
       "    </tr>\n",
       "    <tr>\n",
       "      <th>^BVSP</th>\n",
       "      <td>0.059470</td>\n",
       "      <td>0.08125</td>\n",
       "    </tr>\n",
       "  </tbody>\n",
       "</table>\n",
       "</div>"
      ],
      "text/plain": [
       "          itsa3.sa    ^BVSP\n",
       "itsa3.sa  0.094499  0.05947\n",
       "^BVSP     0.059470  0.08125"
      ]
     },
     "execution_count": 10,
     "metadata": {},
     "output_type": "execute_result"
    }
   ],
   "source": [
    "#vamos cria uma matriz de cov com o metodo (.cov)\n",
    "cov = df_log.cov()*250\n",
    "cov"
   ]
  },
  {
   "cell_type": "code",
   "execution_count": 11,
   "metadata": {},
   "outputs": [
    {
     "data": {
      "text/plain": [
       "0.05946957922903835"
      ]
     },
     "execution_count": 11,
     "metadata": {},
     "output_type": "execute_result"
    }
   ],
   "source": [
    "#vamos obter a covariancia com o mercador\n",
    "cov_com_mercado = cov.iloc[0,1]\n",
    "cov_com_mercado"
   ]
  },
  {
   "cell_type": "code",
   "execution_count": 12,
   "metadata": {},
   "outputs": [
    {
     "data": {
      "text/plain": [
       "0.08125035748387771"
      ]
     },
     "execution_count": 12,
     "metadata": {},
     "output_type": "execute_result"
    }
   ],
   "source": [
    "# vamos obter a variancia anualizado o nosso indice Ibov( Nossa carteria de Mercado)\n",
    "var_mercado = df_log['^BVSP'].var() * 250\n",
    "var_mercado"
   ]
  },
  {
   "cell_type": "markdown",
   "metadata": {},
   "source": [
    "# Vamos fazer o Beta\n",
    "** Beta: **\n",
    "### $$ \n",
    "\\beta_{Acão} = \\frac{\\sigma_{Ação,m}}{\\delta_{m}}\n",
    "$$"
   ]
  },
  {
   "cell_type": "code",
   "execution_count": 13,
   "metadata": {},
   "outputs": [
    {
     "data": {
      "text/plain": [
       "0.7319300624718942"
      ]
     },
     "execution_count": 13,
     "metadata": {},
     "output_type": "execute_result"
    }
   ],
   "source": [
    "beta_acao = cov_com_mercado / var_mercado\n",
    "beta_acao"
   ]
  },
  {
   "cell_type": "markdown",
   "metadata": {},
   "source": [
    "Ações com um beta maior que 1 têm maior volatilidade que o mercado em geral e são mais arriscadas.\n",
    "\n",
    "Ações com um beta igual a 1 têm preços que flutuam no mesmo ritmo que a média do mercado.\n",
    "\n",
    "Ações com um beta menor que 1 têm preços menos voláteis que o mercado e são menos arriscadas.\n"
   ]
  },
  {
   "cell_type": "code",
   "execution_count": null,
   "metadata": {},
   "outputs": [],
   "source": []
  }
 ],
 "metadata": {
  "kernelspec": {
   "display_name": "Python 3",
   "language": "python",
   "name": "python3"
  },
  "language_info": {
   "codemirror_mode": {
    "name": "ipython",
    "version": 3
   },
   "file_extension": ".py",
   "mimetype": "text/x-python",
   "name": "python",
   "nbconvert_exporter": "python",
   "pygments_lexer": "ipython3",
   "version": "3.6.5"
  }
 },
 "nbformat": 4,
 "nbformat_minor": 2
}
